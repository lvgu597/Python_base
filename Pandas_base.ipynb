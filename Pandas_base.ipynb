{
 "cells": [
  {
   "cell_type": "markdown",
   "metadata": {},
   "source": [
    "### 1. 概述\n",
    "#### 1.1 Numpy和Pandas的区别\n",
    "||Numpy|Pandas|\n",
    "|:----|:----|:----|\n",
    "|作用|数值计算|数据处理|\n",
    "|主要数据结构|ndarray|Series,DataFrame|\n",
    "|数据类型|ndarry同构|Series同构|\n"
   ]
  },
  {
   "cell_type": "markdown",
   "metadata": {},
   "source": [
    "### 2. 基本数据结构\n",
    "#### 2.1 Series\n",
    "+ 带标签(index)的一维数组\n",
    "+ 创建方式：pd.Series(data, index=index) (index形式灵活，基本都可以识别出来)\n",
    "    + data不可为set,但index可为set,此时index无序，随机\n",
    "+ data支持的数据类型:\n",
    "    + Python 字典\n",
    "    + 多维数组(不能是set，set无序)\n",
    "        + 未设置index时：\n",
    "           + Python 版本 >= 3.6 且 Pandas 版本 >= 0.23 Series按字典的插入顺序排序索引\n",
    "           + Python < 3.6 或 Pandas < 0.23 Series按字母顺序排序字典的键（key）列表\n",
    "        + 设置index时：\n",
    "           + 按索引标签提取data里对应的值\n",
    "    + 标量值（如1）\n",
    "        + data为标量值时，必须提供index，Series按index长度重复\n",
    "+ 基本操作：\n",
    "    + 与ndarray类似，支持大多数Numpy函数，同时支持索引切片"
   ]
  },
  {
   "cell_type": "code",
   "execution_count": 17,
   "metadata": {},
   "outputs": [
    {
     "data": {
      "text/plain": [
       "a    1\n",
       "b    1\n",
       "dtype: int64"
      ]
     },
     "execution_count": 17,
     "metadata": {},
     "output_type": "execute_result"
    }
   ],
   "source": [
    "import pandas as pd\n",
    "import numpy as np\n",
    "pd.Series(np.array(range(5)), (1,2,3,4,5)) # index 形式灵活，基本都可以识别出来\n",
    "\n",
    "### data 为多维数组\n",
    "pd.Series((1,2,3))\n",
    "\n",
    "### data 为字典\n",
    "pd.Series({'b': 1, 'a': 0, 'c': 2})\n",
    "pd.Series({'b': 1, 'a': 0, 'c': 2}, index=['1', 'b', 'c', 'd']) #按索引标签提取\n",
    "\n",
    "### data为标量值\n",
    "pd.Series(1, index=['a', 'b'])  #必须提供index，按index长度重复该标量值"
   ]
  },
  {
   "cell_type": "code",
   "execution_count": 33,
   "metadata": {},
   "outputs": [
    {
     "data": {
      "text/plain": [
       "3"
      ]
     },
     "execution_count": 33,
     "metadata": {},
     "output_type": "execute_result"
    }
   ],
   "source": [
    "### 与numpy操作类似\n",
    "a = pd.Series(np.array([3,2,1,0]))\n",
    "a.dtype\n",
    "a[0]    #第一个值\n",
    "a[[0]]  #index为0的值\n"
   ]
  },
  {
   "cell_type": "code",
   "execution_count": null,
   "metadata": {},
   "outputs": [],
   "source": []
  },
  {
   "cell_type": "code",
   "execution_count": null,
   "metadata": {},
   "outputs": [],
   "source": []
  },
  {
   "cell_type": "code",
   "execution_count": null,
   "metadata": {},
   "outputs": [],
   "source": []
  },
  {
   "cell_type": "code",
   "execution_count": null,
   "metadata": {},
   "outputs": [],
   "source": []
  },
  {
   "cell_type": "code",
   "execution_count": null,
   "metadata": {},
   "outputs": [],
   "source": []
  },
  {
   "cell_type": "code",
   "execution_count": null,
   "metadata": {},
   "outputs": [],
   "source": []
  },
  {
   "cell_type": "code",
   "execution_count": null,
   "metadata": {},
   "outputs": [],
   "source": []
  }
 ],
 "metadata": {
  "hide_input": false,
  "kernelspec": {
   "display_name": "Python [conda env:python3]",
   "language": "python",
   "name": "conda-env-python3-py"
  },
  "language_info": {
   "codemirror_mode": {
    "name": "ipython",
    "version": 3
   },
   "file_extension": ".py",
   "mimetype": "text/x-python",
   "name": "python",
   "nbconvert_exporter": "python",
   "pygments_lexer": "ipython3",
   "version": "3.6.2"
  },
  "toc": {
   "base_numbering": 1,
   "nav_menu": {},
   "number_sections": true,
   "sideBar": true,
   "skip_h1_title": false,
   "title_cell": "Table of Contents",
   "title_sidebar": "Contents",
   "toc_cell": false,
   "toc_position": {},
   "toc_section_display": true,
   "toc_window_display": true
  }
 },
 "nbformat": 4,
 "nbformat_minor": 4
}
