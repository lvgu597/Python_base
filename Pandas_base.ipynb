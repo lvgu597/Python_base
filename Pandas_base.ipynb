{
 "cells": [
  {
   "cell_type": "markdown",
   "metadata": {},
   "source": [
    "### 1. 概述\n",
    "#### 1.1 Numpy和Pandas的区别\n",
    "||Numpy|Pandas|\n",
    "|:----|:----|:----|\n",
    "|作用|数值计算|数据处理|\n",
    "|主要数据结构|ndarray|Series,DataFrame|\n",
    "|数据类型|ndarry同构但可以向上取(eg:np.array([1, '1', \"1\"]))|Series同构但可以向上取(eg:pd.Series([1, '1', \"1\"]))|\n"
   ]
  },
  {
   "cell_type": "markdown",
   "metadata": {},
   "source": [
    "### 2. 基本数据结构\n",
    "#### 2.1 Series\n",
    "+ 带标签(index)的一维数组\n",
    "+ 创建方式：pd.Series(data, index=index) (index形式灵活，基本都可以识别出来)\n",
    "    + data不可为set,但index可为set,此时index无序，随机\n",
    "+ data支持的数据类型:\n",
    "    + Python 字典\n",
    "    + 多维数组(不能是set，set无序)\n",
    "        + 未设置index时：\n",
    "           + Python 版本 >= 3.6 且 Pandas 版本 >= 0.23 Series按字典的插入顺序排序索引\n",
    "           + Python < 3.6 或 Pandas < 0.23 Series按字母顺序排序字典的键（key）列表\n",
    "        + 设置index时：\n",
    "           + 按索引标签提取data里对应的值\n",
    "    + 标量值（如1）\n",
    "        + data为标量值时，必须提供index，Series按index长度重复\n",
    "+ 基本操作：\n",
    "    + 与ndarray类似，支持大多数Numpy函数，同时支持索引切片，且可以与numpy进行转换\n",
    "    + 与字典类似，可以用index索引提取值或设置值\n",
    "        + a['1']表示index为'1' 的，a[1] 表示第二个数\n",
    "        + 上面这种冲突可以用a.get(1) 解决\n",
    "    + 矢量操作与对齐Series标签\n",
    "        + Series与Numpy数组类似，支持大多数类似方法\n",
    "        + Series之间的操作会自动基于标签对齐，没有的标记为NaN\n",
    "    + Series支持自定义name属性"
   ]
  },
  {
   "cell_type": "code",
   "execution_count": 17,
   "metadata": {},
   "outputs": [
    {
     "data": {
      "text/plain": [
       "a    1\n",
       "b    1\n",
       "dtype: int64"
      ]
     },
     "execution_count": 17,
     "metadata": {},
     "output_type": "execute_result"
    }
   ],
   "source": [
    "import pandas as pd\n",
    "import numpy as np\n",
    "pd.Series(np.array(range(5)), (1,2,3,4,5)) # index 形式灵活，基本都可以识别出来\n",
    "\n",
    "### data 为多维数组\n",
    "pd.Series((1,2,3))\n",
    "\n",
    "### data 为字典\n",
    "pd.Series({'b': 1, 'a': 0, 'c': 2})\n",
    "pd.Series({'b': 1, 'a': 0, 'c': 2}, index=['1', 'b', 'c', 'd']) #按索引标签提取\n",
    "\n",
    "### data为标量值\n",
    "pd.Series(1, index=['a', 'b'])  #必须提供index，按index长度重复该标量值"
   ]
  },
  {
   "cell_type": "code",
   "execution_count": 48,
   "metadata": {},
   "outputs": [
    {
     "data": {
      "text/plain": [
       "numpy.ndarray"
      ]
     },
     "execution_count": 48,
     "metadata": {},
     "output_type": "execute_result"
    }
   ],
   "source": [
    "### 与numpy操作类似\n",
    "a = pd.Series(np.array([3,2,1,0]))\n",
    "a.dtype\n",
    "a[0]    #第一个值\n",
    "a[[0]]  #index为0的值\n",
    "a[:3]   #支持切片\n",
    "a[a > np.min(a)] #支持一些np常规操作\n",
    "a.dtype  #支持dtype\n",
    "a.array  #Series.arry 拓展数组\n",
    "type(a.to_numpy()) #可转成numpy的ndarray"
   ]
  },
  {
   "cell_type": "code",
   "execution_count": 67,
   "metadata": {},
   "outputs": [
    {
     "data": {
      "text/plain": [
       "(0    1\n",
       " 1    2\n",
       " 2    3\n",
       " dtype: int64, None)"
      ]
     },
     "execution_count": 67,
     "metadata": {},
     "output_type": "execute_result"
    }
   ],
   "source": [
    "### 与dic类似\n",
    "a['0'] = \"111\"   #a['1'] 和 a[1] 不是同一个数\n",
    "a = pd.Series(np.array([1,2,3]))\n",
    "a, a.get('1')"
   ]
  },
  {
   "cell_type": "code",
   "execution_count": 80,
   "metadata": {},
   "outputs": [
    {
     "data": {
      "text/plain": [
       "0    5.0\n",
       "1    5.0\n",
       "2    5.0\n",
       "3    NaN\n",
       "dtype: float64"
      ]
     },
     "execution_count": 80,
     "metadata": {},
     "output_type": "execute_result"
    }
   ],
   "source": [
    "b = pd.Series(np.array([1,2,3,4]), index=[3,2,1,0])\n",
    "a + b  #自动根据标签相加,没有的标记为NaN"
   ]
  },
  {
   "cell_type": "code",
   "execution_count": 81,
   "metadata": {},
   "outputs": [
    {
     "data": {
      "text/plain": [
       "0    1\n",
       "1    2\n",
       "2    3\n",
       "Name: dif, dtype: int64"
      ]
     },
     "execution_count": 81,
     "metadata": {},
     "output_type": "execute_result"
    }
   ],
   "source": [
    "a.rename('dif')"
   ]
  },
  {
   "cell_type": "markdown",
   "metadata": {},
   "source": [
    "#### 2.2 DataFrame\n",
    "+ DataFrame 是由多类型的列构成的二维标签数据结构，类似SQL表\n",
    "+ 支持多种类型的数据输入：\n",
    "    + 一维ndarry，列表，字典，Series字典\n",
    "    + 二维numpy.ndarry\n",
    "    + Series，DataFrame\n",
    "    + 除了数据，还可以有选择的传递index（行标签）和columus（列标签）参数\n",
    "+ 创建方式：\n",
    "    + 用Series字典或字典创建\n",
    "        + 指定列与数据字典一起传递时，传递的列会覆盖字典的键\n",
    "    + 用多维数组字典、列表字典创建\n",
    "        + 多维数组长度必须相同。\n",
    "            + 传递index：index长度必须与数组长度相同\n",
    "            + 未传递index：index为range(n)，n为数组长度\n",
    "    + 用列表字典生成DataFrame\n",
    "    + 用元组字典生成DataFrame\n",
    "        + 和列表差不多\n",
    "    + 用Series创建DataFrame\n",
    "+ 基本操作：\n",
    "    + 类似字典操作 列\n",
    "    + 获取某一行\n",
    "        + df.loc[label],df.iloc[loc]"
   ]
  },
  {
   "cell_type": "code",
   "execution_count": 91,
   "metadata": {},
   "outputs": [
    {
     "name": "stdout",
     "output_type": "stream",
     "text": [
      "   one  two\n",
      "a  1.0    1\n",
      "b  2.0    2\n",
      "c  3.0    3\n",
      "d  NaN    4    two three\n",
      "a    1   NaN\n",
      "b    2   NaN\n",
      "c    3   NaN\n",
      "d    4   NaN\n"
     ]
    },
    {
     "data": {
      "text/html": [
       "<div>\n",
       "<style scoped>\n",
       "    .dataframe tbody tr th:only-of-type {\n",
       "        vertical-align: middle;\n",
       "    }\n",
       "\n",
       "    .dataframe tbody tr th {\n",
       "        vertical-align: top;\n",
       "    }\n",
       "\n",
       "    .dataframe thead th {\n",
       "        text-align: right;\n",
       "    }\n",
       "</style>\n",
       "<table border=\"1\" class=\"dataframe\">\n",
       "  <thead>\n",
       "    <tr style=\"text-align: right;\">\n",
       "      <th></th>\n",
       "      <th>two</th>\n",
       "      <th>three</th>\n",
       "    </tr>\n",
       "  </thead>\n",
       "  <tbody>\n",
       "    <tr>\n",
       "      <th>d</th>\n",
       "      <td>4</td>\n",
       "      <td>NaN</td>\n",
       "    </tr>\n",
       "    <tr>\n",
       "      <th>b</th>\n",
       "      <td>2</td>\n",
       "      <td>NaN</td>\n",
       "    </tr>\n",
       "    <tr>\n",
       "      <th>a</th>\n",
       "      <td>1</td>\n",
       "      <td>NaN</td>\n",
       "    </tr>\n",
       "  </tbody>\n",
       "</table>\n",
       "</div>"
      ],
      "text/plain": [
       "   two  three\n",
       "d    4    NaN\n",
       "b    2    NaN\n",
       "a    1    NaN"
      ]
     },
     "execution_count": 91,
     "metadata": {},
     "output_type": "execute_result"
    }
   ],
   "source": [
    "# 用Series字典或字典创建\n",
    "a = {'one': pd.Series(np.array([1,2,3]), index=['a','b','c']),\n",
    "     'two': pd.Series(np.array([1,2,3,4]), index=['a','b','c','d'])}\n",
    "df = pd.DataFrame(a)\n",
    "df1 = pd.DataFrame(a, columns=['two', 'three'])\n",
    "print(df, df1)\n",
    "pd.DataFrame(df, index=['d','b','a']) #index 用于访问行\n",
    "pd.DataFrame(df, index=['d','b','a'], columns=['two','three']) #columns用于访问列"
   ]
  },
  {
   "cell_type": "code",
   "execution_count": 98,
   "metadata": {},
   "outputs": [
    {
     "data": {
      "text/html": [
       "<div>\n",
       "<style scoped>\n",
       "    .dataframe tbody tr th:only-of-type {\n",
       "        vertical-align: middle;\n",
       "    }\n",
       "\n",
       "    .dataframe tbody tr th {\n",
       "        vertical-align: top;\n",
       "    }\n",
       "\n",
       "    .dataframe thead th {\n",
       "        text-align: right;\n",
       "    }\n",
       "</style>\n",
       "<table border=\"1\" class=\"dataframe\">\n",
       "  <thead>\n",
       "    <tr style=\"text-align: right;\">\n",
       "      <th></th>\n",
       "      <th>one</th>\n",
       "      <th>two</th>\n",
       "    </tr>\n",
       "  </thead>\n",
       "  <tbody>\n",
       "    <tr>\n",
       "      <th>a</th>\n",
       "      <td>1</td>\n",
       "      <td>4</td>\n",
       "    </tr>\n",
       "    <tr>\n",
       "      <th>b</th>\n",
       "      <td>2</td>\n",
       "      <td>3</td>\n",
       "    </tr>\n",
       "    <tr>\n",
       "      <th>c</th>\n",
       "      <td>3</td>\n",
       "      <td>2</td>\n",
       "    </tr>\n",
       "    <tr>\n",
       "      <th>d</th>\n",
       "      <td>4</td>\n",
       "      <td>1</td>\n",
       "    </tr>\n",
       "  </tbody>\n",
       "</table>\n",
       "</div>"
      ],
      "text/plain": [
       "   one  two\n",
       "a    1    4\n",
       "b    2    3\n",
       "c    3    2\n",
       "d    4    1"
      ]
     },
     "execution_count": 98,
     "metadata": {},
     "output_type": "execute_result"
    }
   ],
   "source": [
    "# 用多维数组字典、列表字典创建\n",
    "df = pd.DataFrame({'one': [1,2,3,4],\n",
    "                   'two': [4,3,2,1]}) #index 未指定，默认range(n)\n",
    "# df = pd.DataFrame({'one': [1,2,3,4],\n",
    "#                    'two': [4,3,2]})   #arrays must all be same length\n",
    "df = pd.DataFrame({'one': [1,2,3,4],\n",
    "                   'two': [4,3,2,1]}, index = ['a', 'b', 'c', 'd'])\n",
    "df"
   ]
  },
  {
   "cell_type": "code",
   "execution_count": 100,
   "metadata": {},
   "outputs": [
    {
     "data": {
      "text/html": [
       "<div>\n",
       "<style scoped>\n",
       "    .dataframe tbody tr th:only-of-type {\n",
       "        vertical-align: middle;\n",
       "    }\n",
       "\n",
       "    .dataframe tbody tr th {\n",
       "        vertical-align: top;\n",
       "    }\n",
       "\n",
       "    .dataframe thead th {\n",
       "        text-align: right;\n",
       "    }\n",
       "</style>\n",
       "<table border=\"1\" class=\"dataframe\">\n",
       "  <thead>\n",
       "    <tr style=\"text-align: right;\">\n",
       "      <th></th>\n",
       "      <th>a</th>\n",
       "      <th>b</th>\n",
       "      <th>c</th>\n",
       "      <th>d</th>\n",
       "      <th>e</th>\n",
       "    </tr>\n",
       "  </thead>\n",
       "  <tbody>\n",
       "    <tr>\n",
       "      <th>0</th>\n",
       "      <td>1</td>\n",
       "      <td>2.0</td>\n",
       "      <td>NaN</td>\n",
       "      <td>NaN</td>\n",
       "      <td>NaN</td>\n",
       "    </tr>\n",
       "    <tr>\n",
       "      <th>1</th>\n",
       "      <td>3</td>\n",
       "      <td>NaN</td>\n",
       "      <td>4.0</td>\n",
       "      <td>5.0</td>\n",
       "      <td>NaN</td>\n",
       "    </tr>\n",
       "    <tr>\n",
       "      <th>2</th>\n",
       "      <td>6</td>\n",
       "      <td>NaN</td>\n",
       "      <td>NaN</td>\n",
       "      <td>NaN</td>\n",
       "      <td>8.0</td>\n",
       "    </tr>\n",
       "  </tbody>\n",
       "</table>\n",
       "</div>"
      ],
      "text/plain": [
       "   a    b    c    d    e\n",
       "0  1  2.0  NaN  NaN  NaN\n",
       "1  3  NaN  4.0  5.0  NaN\n",
       "2  6  NaN  NaN  NaN  8.0"
      ]
     },
     "execution_count": 100,
     "metadata": {},
     "output_type": "execute_result"
    }
   ],
   "source": [
    "# 用列表字典生成DataFrame\n",
    "data = [{'a': 1, 'b': 2},{'a': 3, 'c': 4, 'd': 5},{'a': 6, 'e':8}]\n",
    "pd.DataFrame(data) #多个dict合并"
   ]
  },
  {
   "cell_type": "code",
   "execution_count": 112,
   "metadata": {},
   "outputs": [
    {
     "data": {
      "text/html": [
       "<div>\n",
       "<style scoped>\n",
       "    .dataframe tbody tr th:only-of-type {\n",
       "        vertical-align: middle;\n",
       "    }\n",
       "\n",
       "    .dataframe tbody tr th {\n",
       "        vertical-align: top;\n",
       "    }\n",
       "\n",
       "    .dataframe thead th {\n",
       "        text-align: right;\n",
       "    }\n",
       "</style>\n",
       "<table border=\"1\" class=\"dataframe\">\n",
       "  <thead>\n",
       "    <tr style=\"text-align: right;\">\n",
       "      <th></th>\n",
       "      <th>a</th>\n",
       "      <th>b</th>\n",
       "      <th>c</th>\n",
       "      <th>d</th>\n",
       "      <th>e</th>\n",
       "    </tr>\n",
       "  </thead>\n",
       "  <tbody>\n",
       "    <tr>\n",
       "      <th>1</th>\n",
       "      <td>1</td>\n",
       "      <td>2.0</td>\n",
       "      <td>NaN</td>\n",
       "      <td>NaN</td>\n",
       "      <td>NaN</td>\n",
       "    </tr>\n",
       "    <tr>\n",
       "      <th>2</th>\n",
       "      <td>3</td>\n",
       "      <td>NaN</td>\n",
       "      <td>4.0</td>\n",
       "      <td>5.0</td>\n",
       "      <td>NaN</td>\n",
       "    </tr>\n",
       "    <tr>\n",
       "      <th>3</th>\n",
       "      <td>6</td>\n",
       "      <td>NaN</td>\n",
       "      <td>NaN</td>\n",
       "      <td>NaN</td>\n",
       "      <td>8.0</td>\n",
       "    </tr>\n",
       "  </tbody>\n",
       "</table>\n",
       "</div>"
      ],
      "text/plain": [
       "   a    b    c    d    e\n",
       "1  1  2.0  NaN  NaN  NaN\n",
       "2  3  NaN  4.0  5.0  NaN\n",
       "3  6  NaN  NaN  NaN  8.0"
      ]
     },
     "execution_count": 112,
     "metadata": {},
     "output_type": "execute_result"
    }
   ],
   "source": [
    "# 用元组字典生成DataFrame\n",
    "data = ({'a': 1, 'b': 2},{'a': 3, 'c': 4, 'd': 5},{'a': 6, 'e':8})\n",
    "df = pd.DataFrame(data, index=['1', '2', '3']) #多个dict合并\n",
    "df"
   ]
  },
  {
   "cell_type": "code",
   "execution_count": 119,
   "metadata": {},
   "outputs": [
    {
     "data": {
      "text/html": [
       "<div>\n",
       "<style scoped>\n",
       "    .dataframe tbody tr th:only-of-type {\n",
       "        vertical-align: middle;\n",
       "    }\n",
       "\n",
       "    .dataframe tbody tr th {\n",
       "        vertical-align: top;\n",
       "    }\n",
       "\n",
       "    .dataframe thead th {\n",
       "        text-align: right;\n",
       "    }\n",
       "</style>\n",
       "<table border=\"1\" class=\"dataframe\">\n",
       "  <thead>\n",
       "    <tr style=\"text-align: right;\">\n",
       "      <th></th>\n",
       "      <th>b</th>\n",
       "      <th>c</th>\n",
       "      <th>d</th>\n",
       "      <th>f</th>\n",
       "    </tr>\n",
       "  </thead>\n",
       "  <tbody>\n",
       "    <tr>\n",
       "      <th>1</th>\n",
       "      <td>2.0</td>\n",
       "      <td>NaN</td>\n",
       "      <td>NaN</td>\n",
       "      <td>123</td>\n",
       "    </tr>\n",
       "    <tr>\n",
       "      <th>2</th>\n",
       "      <td>NaN</td>\n",
       "      <td>4.0</td>\n",
       "      <td>5.0</td>\n",
       "      <td>123</td>\n",
       "    </tr>\n",
       "    <tr>\n",
       "      <th>3</th>\n",
       "      <td>NaN</td>\n",
       "      <td>NaN</td>\n",
       "      <td>NaN</td>\n",
       "      <td>123</td>\n",
       "    </tr>\n",
       "  </tbody>\n",
       "</table>\n",
       "</div>"
      ],
      "text/plain": [
       "     b    c    d    f\n",
       "1  2.0  NaN  NaN  123\n",
       "2  NaN  4.0  5.0  123\n",
       "3  NaN  NaN  NaN  123"
      ]
     },
     "execution_count": 119,
     "metadata": {},
     "output_type": "execute_result"
    }
   ],
   "source": [
    "# 类似字典操作列\n",
    "df = pd.DataFrame(data, index=['1', '2', '3']) #多个dict合并\n",
    "df['a']\n",
    "del df['a'] #删除某一列\n",
    "df\n",
    "e = df.pop('e')\n",
    "e, type(e) #弹出某一列为 Series\n",
    "#df['1'] 只会查找列元素\n",
    "df['f'] = '123' #以广播方式填充\n",
    "df"
   ]
  }
 ],
 "metadata": {
  "hide_input": false,
  "kernelspec": {
   "display_name": "Python [conda env:python3]",
   "language": "python",
   "name": "conda-env-python3-py"
  },
  "language_info": {
   "codemirror_mode": {
    "name": "ipython",
    "version": 3
   },
   "file_extension": ".py",
   "mimetype": "text/x-python",
   "name": "python",
   "nbconvert_exporter": "python",
   "pygments_lexer": "ipython3",
   "version": "3.6.2"
  },
  "toc": {
   "base_numbering": 1,
   "nav_menu": {},
   "number_sections": true,
   "sideBar": true,
   "skip_h1_title": false,
   "title_cell": "Table of Contents",
   "title_sidebar": "Contents",
   "toc_cell": false,
   "toc_position": {
    "height": "calc(100% - 180px)",
    "left": "10px",
    "top": "150px",
    "width": "291.062px"
   },
   "toc_section_display": true,
   "toc_window_display": true
  }
 },
 "nbformat": 4,
 "nbformat_minor": 4
}
