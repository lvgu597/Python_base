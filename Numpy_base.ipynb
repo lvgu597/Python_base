{
 "cells": [
  {
   "cell_type": "markdown",
   "metadata": {},
   "source": [
    "### 1. 概述\n",
    "#### 1.1 基本概念\n",
    "+ 主要对象为**同种元素**的多维数组\n",
    "+ 在Numpy中维度（dimensions）叫做轴（axes），轴的个数叫做秩\n",
    "    + 维度/轴：相当于层\n",
    "    + 秩：相当于层数\n",
    "    + 维度长度：该层元素个数\n",
    "    \n",
    "  ```\n",
    "  [[1,0,0],[0,1,2]] #2x3的数组  秩：2（即有2层） 第一个维度长度为2，第二个维度长度为3\n",
    "  ```\n",
    "#### 1.2 标准函数\n",
    "+ Numpy的数组类被称为ndarry 对象的属性有:"
   ]
  },
  {
   "cell_type": "code",
   "execution_count": 28,
   "metadata": {
    "scrolled": true
   },
   "outputs": [
    {
     "name": "stdout",
     "output_type": "stream",
     "text": [
      "array('i', [0, 1, 2, 3, 4, 5, 6, 7, 8, 9, 10, 11, 12, 13, 14])\n",
      "<class 'array.array'>\n",
      "<class 'numpy.ndarray'>\n",
      "[[ 0  1  2  3  4]\n",
      " [ 5  6  7  8  9]\n",
      " [10 11 12 13 14]]\n",
      "(3, 5)\n",
      "2\n",
      "int64\n",
      "8\n",
      "15\n",
      "<memory at 0x7fb6196fba68>\n"
     ]
    }
   ],
   "source": [
    "from numpy import *\n",
    "import array\n",
    "ary = array.array('i',range(15))\n",
    "print(ary) \n",
    "print(type(ary)) # 类型为array.array\n",
    "test = arange(15).reshape((3,5))\n",
    "print(type(test)) #类型为numpy.ndarray\n",
    "print(test)\n",
    "print(test.shape) # (3,5) 3x5的数组\n",
    "print(test.ndim) # 2  数组的维数\n",
    "print(test.dtype.name) # int64 描述数组中元素的类型\n",
    "print(test.itemsize) #数组中每个元素字节的大小\n",
    "print(test.size) #数组所有元素的个数"
   ]
  },
  {
   "cell_type": "markdown",
   "metadata": {},
   "source": [
    "### 2. 数组的基本操作\n",
    "#### 2.1 数组的创建\n",
    "+ 使用array函数从常规的Python列表和元组创建 可以通过dtype指定数据类型"
   ]
  },
  {
   "cell_type": "code",
   "execution_count": 39,
   "metadata": {},
   "outputs": [
    {
     "name": "stdout",
     "output_type": "stream",
     "text": [
      "<class 'numpy.ndarray'> [1 2 3]\n",
      "<class 'numpy.ndarray'> [1 2 3]\n",
      "[[1 2 3]\n",
      " [4 5 6]] 6 2\n",
      "[[1 2 3]\n",
      " [4 5 6]] 6 2\n"
     ]
    }
   ],
   "source": [
    "from numpy import *\n",
    "a_from_l = array([1,2,3]) #从常规的Python列表\n",
    "print(type(a_from_l),a_from_l)\n",
    "a_from_t = array((1,2,3)) #从常规的Python元组\n",
    "print(type(a_from_t),a_from_t)\n",
    "\n",
    "\n",
    "#多维\n",
    "a_complex = array([[1,2,3],[4,5,6]])\n",
    "print(a_complex, a_complex.size, a_complex.ndim)\n",
    "b_complex = array(((1,2,3),(4,5,6)))\n",
    "print(b_complex, b_complex.size, b_complex.ndim)"
   ]
  },
  {
   "cell_type": "markdown",
   "metadata": {},
   "source": [
    "+ numpy提供类似range 函数 arange返回函数列表 "
   ]
  },
  {
   "cell_type": "code",
   "execution_count": 44,
   "metadata": {},
   "outputs": [
    {
     "name": "stdout",
     "output_type": "stream",
     "text": [
      "[4 6] <class 'numpy.ndarray'>\n"
     ]
    }
   ],
   "source": [
    "from numpy import arange\n",
    "ar = arange(4,8,2)\n",
    "print(ar, type(ar))"
   ]
  },
  {
   "cell_type": "markdown",
   "metadata": {},
   "source": [
    "#### 2.2 打印数组\n",
    "+ 以嵌套的形式打印，数组太大时会自动省略中间元素而只打印最后元素（可以通过禁用该属性来强制打印set_printoptions(threshold='nan')）"
   ]
  },
  {
   "cell_type": "code",
   "execution_count": 48,
   "metadata": {},
   "outputs": [
    {
     "name": "stdout",
     "output_type": "stream",
     "text": [
      "[[ 0  1  2  3]\n",
      " [ 4  5  6  7]\n",
      " [ 8  9 10 11]]\n",
      "[[   0    1    2 ...   97   98   99]\n",
      " [ 100  101  102 ...  197  198  199]\n",
      " [ 200  201  202 ...  297  298  299]\n",
      " ...\n",
      " [9700 9701 9702 ... 9797 9798 9799]\n",
      " [9800 9801 9802 ... 9897 9898 9899]\n",
      " [9900 9901 9902 ... 9997 9998 9999]]\n"
     ]
    }
   ],
   "source": [
    "print(arange(12).reshape(3,4))\n",
    "print(arange(10000).reshape(100,100)) #大数组"
   ]
  },
  {
   "cell_type": "markdown",
   "metadata": {},
   "source": [
    "#### 2.3 基本运算\n",
    "+ 算术运算：所有元素进行运算\n",
    "+ 计算矩阵乘法：使用dot\n",
    "+ 用axis=0 来只计算列，axis=1来只计算行"
   ]
  },
  {
   "cell_type": "code",
   "execution_count": 64,
   "metadata": {},
   "outputs": [
    {
     "name": "stdout",
     "output_type": "stream",
     "text": [
      "[[-2 -2 -2]\n",
      " [-2  0  2]]\n",
      "[[ 4  6  8]\n",
      " [10  8  6]] [[ 4  9 16]\n",
      " [25 16  9]]\n",
      "[[ 0.          2.52441295  3.63718971]\n",
      " [ 0.70560004 -3.02720998 -2.87677282]]\n",
      "[[ True  True False]\n",
      " [False False False]]\n",
      "[[10 13]\n",
      " [28 40]]\n"
     ]
    }
   ],
   "source": [
    "a_suan = arange(6).reshape(2,3)\n",
    "b_suan = array([(2,3,4),(5,4,3)])\n",
    "print(a_suan - b_suan)\n",
    "print(b_suan*2, b_suan**2) #**2 为平方\n",
    "print(b_suan * sin(a_suan))\n",
    "print(a_suan < 2)\n",
    "print(dot(a_suan, arange(6).reshape(3,2))) # 2x3 * 3x2 = 2x2"
   ]
  },
  {
   "cell_type": "code",
   "execution_count": 78,
   "metadata": {},
   "outputs": [
    {
     "name": "stdout",
     "output_type": "stream",
     "text": [
      "[[0 1 2]\n",
      " [3 4 5]] 0 5\n",
      "15\n",
      "[[  1.           2.71828183   7.3890561 ]\n",
      " [ 20.08553692  54.59815003 148.4131591 ]]\n",
      "[3 5 7] [ 3 12]\n",
      "[0 1 2] [0 3]\n"
     ]
    }
   ],
   "source": [
    "###　常用方法\n",
    "print(a_suan, a_suan.min(), a_suan.max()) #所有元素最小值,最大值\n",
    "print(a_suan.sum()) #所有元素的和\n",
    "print(exp(a_suan)) #取e^x\n",
    "print(a_suan.sum(axis=0), a_suan.sum(axis=1)) \n",
    "print(a_suan.min(axis=0), a_suan.min(axis=1)) # axis=0 指定列 axis=1 指定行 "
   ]
  },
  {
   "cell_type": "markdown",
   "metadata": {},
   "source": [
    "### 3. 通用函数ufunc\n",
    "+ 基本通用函数：arange()、exp()...\n",
    "+ 索引、切片和迭代（可以理解为numpy中的array[list格式可以不唯一]）\n",
    "    + 多维数组可以使用逗号分隔（list无法如此使用,类似latax的用法）\n",
    "    + 当少于维度的索引被提供时，缺失的索引默认为整个切片 eg: a[-1] == a[-1,:]\n",
    "    + 点(...)代表许多产生一个完整的索引元组必要的分号"
   ]
  },
  {
   "cell_type": "code",
   "execution_count": 10,
   "metadata": {},
   "outputs": [
    {
     "name": "stdout",
     "output_type": "stream",
     "text": [
      "[0 1 2] [1.         2.71828183 7.3890561 ]\n",
      "[0.         1.         1.41421356]\n",
      "[[0 1 2]\n",
      " [3 4 5]\n",
      " [6 7 8]] 0 0\n",
      "[2 5 8]\n",
      "[3 4 5]\n",
      "[6 7 8]\n",
      "[1 4 7]\n"
     ]
    }
   ],
   "source": [
    "from numpy import *\n",
    "a_ufunc = arange(3)\n",
    "print(a_ufunc, exp(a_ufunc))  # e^x\n",
    "print(sqrt(a_ufunc)) #开方\n",
    "\n",
    "## 多维数组使用逗号分隔\n",
    "a_ufunc = arange(9).reshape(3,3)\n",
    "print(a_ufunc, a_ufunc[0][0], a_ufunc[0,0])\n",
    "print(a_ufunc[:, 2]) # 每一行第三列的值\n",
    "print(a_ufunc[1,:]) #第2行的所有值\n",
    "print(a_ufunc[-1])  # 即a_ufunc[-1,:]， 倒数一行所有值\n",
    "\n",
    "# 点...的用法\n",
    "print(a_ufunc[...,1]) #即a_ufunc[:,1]  所有第二个值组成的ndarry"
   ]
  },
  {
   "cell_type": "markdown",
   "metadata": {},
   "source": [
    "### 4. 形状操作\n",
    "#### 4.1 更改数组的形状\n",
    "+ shape、reshape、resize、ravel\n",
    "    + reshape函数改变参数形状并返回它，而resize函数改变数组自身\n",
    "    + **resize函数对本身的改变不限制原本的大小**，不够会自动填0\n",
    "    + reshape、ravel新生成的数组和原数组共用一个内存，change时会互相影响，但id不同"
   ]
  },
  {
   "cell_type": "code",
   "execution_count": 35,
   "metadata": {},
   "outputs": [
    {
     "name": "stdout",
     "output_type": "stream",
     "text": [
      "[[9. 9. 8. 2.]\n",
      " [5. 6. 9. 2.]\n",
      " [9. 1. 6. 0.]]\n",
      "[[9. 9.]\n",
      " [8. 2.]\n",
      " [5. 6.]\n",
      " [9. 2.]\n",
      " [9. 1.]\n",
      " [6. 0.]]\n",
      "[[9. 9. 8. 2.]\n",
      " [5. 6. 9. 2.]\n",
      " [9. 1. 6. 0.]] [[9. 9.]\n",
      " [8. 2.]\n",
      " [5. 6.]\n",
      " [9. 2.]\n",
      " [9. 1.]\n",
      " [6. 0.]]\n",
      "[9. 9. 8. 2. 5. 6. 9. 2. 9. 1. 6. 0.]\n",
      "[[9. 9. 8.]\n",
      " [2. 5. 6.]\n",
      " [9. 2. 9.]\n",
      " [1. 6. 0.]\n",
      " [0. 0. 0.]]\n"
     ]
    }
   ],
   "source": [
    "from numpy import *\n",
    "a_shape = floor(10*random.random((3,4)))\n",
    "print(a_shape)\n",
    "a_shape.shape = (6,2)\n",
    "print(a_shape)\n",
    "print(a_shape.reshape(3,4), a_shape)\n",
    "print(a_shape.ravel())  # 转换成一个一维数组\n",
    "\n",
    "a_shape.resize((5,3)) #改变a_shape自身,并且不限制原本元素\n",
    "print(a_shape)  "
   ]
  },
  {
   "cell_type": "code",
   "execution_count": 76,
   "metadata": {},
   "outputs": [
    {
     "name": "stdout",
     "output_type": "stream",
     "text": [
      "[[ 0  1  2  3]\n",
      " [ 4  5  6  7]\n",
      " [ 8  9 10 11]] [[ 0  1  2  3  4  5]\n",
      " [ 6  7  8  9 10 11]]\n",
      "[[111   1   2   3]\n",
      " [  4   5   6   7]\n",
      " [  8   9  10  11]] [[111   1   2   3   4   5]\n",
      " [  6   7   8   9  10  11]]\n",
      "140343276324464 140343276404784\n"
     ]
    }
   ],
   "source": [
    "##test_reshape reshape新生成的数组和原来的数组公用一个内存，会互相影响\n",
    "test_shape = arange(12).reshape(3,4)\n",
    "test_change = test_shape.reshape(2,6)\n",
    "print(test_shape, test_change)\n",
    "\n",
    "test_change[0][0] = 111   #只改变test_change的第一个值\n",
    "print(test_shape, test_change) #发现test_shape原来的值也变了\n",
    "print(id(test_shape), id(test_change))"
   ]
  },
  {
   "cell_type": "code",
   "execution_count": 30,
   "metadata": {},
   "outputs": [
    {
     "name": "stdout",
     "output_type": "stream",
     "text": [
      "[111   1   2   3   4   5   6   7   8   9  10  11] [[111   1   2   3]\n",
      " [  4   5   6   7]\n",
      " [  8   9  10  11]]\n",
      "[222   1   2   3   4   5   6   7   8   9  10  11] [[222   1   2   3]\n",
      " [  4   5   6   7]\n",
      " [  8   9  10  11]]\n"
     ]
    }
   ],
   "source": [
    "## test_ravel ravel新生成的数组和原来的数组公用一个内存，会互相影响\n",
    "test_ravel = test_shape.ravel()\n",
    "print(test_ravel, test_shape)\n",
    "test_ravel[0] = 222 # 只改变\n",
    "print(test_ravel, test_shape)"
   ]
  },
  {
   "cell_type": "markdown",
   "metadata": {},
   "source": [
    "#### 4.2 组合（stack）不同的数组\n",
    "+ vstack,hstack,column_stack,row_stack,c_[],r_[]\n",
    "    + vstack：组合相同列 成为一个新数组，和原数组不占用同一内存\n",
    "    + hstack：组合相同行 成为一个新数组，和原数组不占用同一内存\n",
    "    + r_[] 和 c_[] 对创建沿着一个方向组合的数很有用，它们允许范围符号(:)"
   ]
  },
  {
   "cell_type": "code",
   "execution_count": 64,
   "metadata": {},
   "outputs": [
    {
     "data": {
      "text/plain": [
       "array([[0, 1],\n",
       "       [1, 2],\n",
       "       [2, 3]])"
      ]
     },
     "execution_count": 64,
     "metadata": {},
     "output_type": "execute_result"
    }
   ],
   "source": [
    "a_stack = arange(4).reshape((2,2))\n",
    "b_stack = arange(6).reshape((2,3))\n",
    "c_stack = arange(4).reshape((2,2))\n",
    "vstack((a_stack, c_stack)) #vstack 只能组合列相同数组\n",
    "hstack((a_stack, b_stack)) #hastck 只能组合行相同数组\n",
    "column_stack((array([1,2,3]),array([4,5,6]))) #a中元素作为列展开\n",
    "column_stack((a_stack, c_stack))\n",
    "row_stack((array([1,2,3]),array([4,5,6]))) #a中元素作为行展开\n",
    "row_stack((a_stack, c_stack))\n",
    "r_[0:4,2,3]\n",
    "c_[:3, [1,2,3]]"
   ]
  },
  {
   "cell_type": "markdown",
   "metadata": {},
   "source": [
    "#### 4.3 数组分隔（split）\n",
    "+ hsplit,vsplit\n",
    "    + hsplit: 按照列分割\n",
    "    + vsplit: 按照行分割"
   ]
  },
  {
   "cell_type": "code",
   "execution_count": 70,
   "metadata": {},
   "outputs": [
    {
     "data": {
      "text/plain": [
       "[array([[0, 1]]), array([[2, 3]])]"
      ]
     },
     "execution_count": 70,
     "metadata": {},
     "output_type": "execute_result"
    }
   ],
   "source": [
    "a_split = arange(4).reshape((2,2))\n",
    "hsplit(a_split, 2) #分成两块\n",
    "hsplit(a_split, (0,1)) #分割第1到第2列\n",
    "vsplit(a_split, 2)"
   ]
  },
  {
   "cell_type": "markdown",
   "metadata": {},
   "source": [
    "#### 4.4 复制和视图\n",
    "+ '=' 对象的引用 ， a,b指向同一个地址空间\n",
    "+ 视图：a.view()  地址不同，但指向同一个内存数据，数据变会跟着变\n",
    "+ 深复制 .copy()  相当于deep copy(注意:这里和copy.copy()不同) "
   ]
  },
  {
   "cell_type": "code",
   "execution_count": 79,
   "metadata": {},
   "outputs": [
    {
     "name": "stdout",
     "output_type": "stream",
     "text": [
      "140343276324624 140343276325584\n",
      "[[0 1]\n",
      " [2 3]] [[0 1]\n",
      " [2 3]]\n",
      "[[111   1]\n",
      " [  2   3]] [[111   1]\n",
      " [  2   3]]\n"
     ]
    }
   ],
   "source": [
    "a_ori = arange(4).reshape(2,2)\n",
    "a_view = a_ori.view()\n",
    "print(id(a_ori), id(a_view))\n",
    "print(a_ori, a_view)\n",
    "a_view[0][0] = 111\n",
    "print(a_view, a_ori)  #只改变view的数据，都变化"
   ]
  },
  {
   "cell_type": "code",
   "execution_count": 88,
   "metadata": {},
   "outputs": [
    {
     "name": "stdout",
     "output_type": "stream",
     "text": [
      "140343276270576 140343276324624\n",
      "[[222   1]\n",
      " [  2   3]] [[111   1]\n",
      " [  2   3]]\n"
     ]
    }
   ],
   "source": [
    "#numpy 的copy\n",
    "a_copy = a_ori.copy()\n",
    "print(id(a_copy), id(a_ori))\n",
    "a_copy[0][0] = 222\n",
    "print(a_copy, a_ori)"
   ]
  }
 ],
 "metadata": {
  "hide_input": false,
  "kernelspec": {
   "display_name": "Python [conda env:python3]",
   "language": "python",
   "name": "conda-env-python3-py"
  },
  "language_info": {
   "codemirror_mode": {
    "name": "ipython",
    "version": 3
   },
   "file_extension": ".py",
   "mimetype": "text/x-python",
   "name": "python",
   "nbconvert_exporter": "python",
   "pygments_lexer": "ipython3",
   "version": "3.6.2"
  },
  "toc": {
   "base_numbering": 1,
   "nav_menu": {},
   "number_sections": true,
   "sideBar": true,
   "skip_h1_title": false,
   "title_cell": "Table of Contents",
   "title_sidebar": "Contents",
   "toc_cell": false,
   "toc_position": {},
   "toc_section_display": true,
   "toc_window_display": true
  }
 },
 "nbformat": 4,
 "nbformat_minor": 4
}
